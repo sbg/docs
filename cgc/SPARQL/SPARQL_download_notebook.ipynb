{
 "cells": [
  {
   "cell_type": "markdown",
   "metadata": {},
   "source": [
    "# Use TCGA metadata to access files\n",
    "\n",
    "This document details the process of finding and downloading TCGA files, filtered using a SPARQL query into the file metadata. \n",
    "\n",
    "### Prerequisites:\n",
    "\n",
    "1. A [CGC account](http://docs.cancergenomicscloud.org/docs/sign-up-for-the-cgc).\n",
    "2. [Controlled Data access](http://docs.cancergenomicscloud.org/docs/tcga-data-access) so that you can use all TCGA data on the CGC.\n",
    "3. A Python library that enables you to access SPARQL endpoint programatically. We recommend https://github.com/RDFLib/rdflib, which you can install using `pip install rdflib`, but any other SPARQL library should do.\n",
    "4. Familiarity with the CGC API. For this, please take a look at [the documentation](http://docs.cancergenomicscloud.org/docs/the-cgc-api). \n",
    "  \n",
    "### Notes\n",
    "\n",
    "This example uses Python 2.7 but can be trivially adapted to use Python 3.x\n",
    "\n",
    "\n",
    "## Issuing SPARQL queries programatically\n",
    "\n",
    "The following query is designed to get a list of files we need to process. In order to do this, we need the following:\n",
    "\n",
    "1. Create our SPARQL query \n",
    "2. Define an endpoint\n",
    "3. Send the query to server \n",
    "4. Grab the results\n",
    "\n",
    "\n",
    "The query we will use will give us files that are from cases of the disease 'Lung Adenocarcinoma', in which the patients are alive, had the last medical follow-up 550 days ago, and have received chemotherapy. We shall further specify that the sample is from taken from the primary tumor, using the experimental strategy WXS (Whole Exome Sequencing)."
   ]
  },
  {
   "cell_type": "code",
   "execution_count": null,
   "metadata": {
    "collapsed": false
   },
   "outputs": [],
   "source": [
    "from SPARQLWrapper import SPARQLWrapper, JSON\n",
    "import json\n",
    "\n",
    "# Use the public endpoint\n",
    "\n",
    "sparql_endpoint = \"https://opensparql.sbgenomics.com/blazegraph/namespace/tcga_metadata_kb/sparql\"\n",
    "\n",
    "# Initialize the SPARQL wrapper with the endpoint\n",
    "sparql = SPARQLWrapper(sparql_endpoint)\n",
    "\n",
    "query = \"\"\"\n",
    "prefix rdfs: <http://www.w3.org/2000/01/rdf-schema#>\n",
    "prefix tcga: <https://www.sbgenomics.com/ontologies/2014/11/tcga#>\n",
    "\n",
    "select distinct ?case ?sample ?file_name ?path ?xs_label ?subtype_label\n",
    "where\n",
    "{\n",
    " ?case a tcga:Case .\n",
    " ?case tcga:hasDiseaseType ?disease_type .\n",
    " ?disease_type rdfs:label \"Lung Adenocarcinoma\" .\n",
    " \n",
    " ?case tcga:hasHistologicalDiagnosis ?hd .\n",
    " ?hd rdfs:label \"Lung Adenocarcinoma Mixed Subtype\" .\n",
    " \n",
    "\n",
    " \n",
    "\n",
    " \n",
    " ?case tcga:hasFollowUp ?follow_up .\n",
    " ?follow_up tcga:hasDaysToLastFollowUp ?days_to_last_follow_up .\n",
    " filter(?days_to_last_follow_up>550) \n",
    "  \n",
    " ?follow_up tcga:hasVitalStatus ?vital_status .\n",
    " ?vital_status rdfs:label ?vital_status_label .\n",
    " filter(?vital_status_label=\"Alive\")\n",
    " \n",
    " ?case tcga:hasDrugTherapy ?drug_therapy .\n",
    " ?drug_therapy tcga:hasPharmaceuticalTherapyType ?pt_type .\n",
    " ?pt_type rdfs:label ?pt_type_label .\n",
    " filter(?pt_type_label=\"Chemotherapy\")\n",
    "  \n",
    " ?case tcga:hasSample ?sample .\n",
    " ?sample tcga:hasSampleType ?st .\n",
    " ?st rdfs:label ?st_label\n",
    " filter(?st_label=\"Primary Tumor\")\n",
    "     \n",
    " ?sample tcga:hasFile ?file .\n",
    " ?file rdfs:label ?file_name .\n",
    " \n",
    " ?file tcga:hasStoragePath ?path.\n",
    "  \n",
    " ?file tcga:hasExperimentalStrategy ?xs.\n",
    " ?xs rdfs:label ?xs_label .\n",
    " filter(?xs_label=\"WXS\")\n",
    "  \n",
    " ?file tcga:hasDataSubtype ?subtype .\n",
    " ?subtype rdfs:label ?subtype_label\n",
    "\n",
    "}\n",
    "\n",
    "\n",
    "\n",
    "\n",
    "\n",
    "\"\"\"\n",
    "\n",
    "\n",
    "sparql.setQuery(query)\n",
    "\n",
    "sparql.setReturnFormat(JSON)\n",
    "results = sparql.query().convert()\n",
    "\n",
    "\n",
    "\n",
    "# From results, we grab a list of files. TCGA metadata database returns a list of filepaths. \n",
    "filelist = [result['path']['value'] for result in results['results']['bindings']]\n",
    "\n",
    "\n",
    "\n"
   ]
  },
  {
   "cell_type": "code",
   "execution_count": null,
   "metadata": {
    "collapsed": false
   },
   "outputs": [],
   "source": [
    "# The list of file paths is now in the filelist array, as shown below\n",
    "print 'Your query returned %s files with paths:' % len(filelist)\n",
    "\n",
    "for file in filelist:\n",
    "    print file \n"
   ]
  },
  {
   "cell_type": "markdown",
   "metadata": {},
   "source": [
    "## Use the CGC API to download a file\n",
    "\n",
    "Prerequisites:\n",
    "\n",
    "1. An account on CGC with access to [TCGA Controlled Data](http://docs.cancergenomicscloud.org/docs/tcga-data-access).\n",
    "2. Your authentication token used to access the CGC API. This is available at https://cgc.sbgenomics.com/account#developer.\n",
    "\n",
    "In order to download a file, we need do do the following:\n",
    "\n",
    "1. Map file paths we get from TCGA metadata database to the file IDs used on the CGC.\n",
    "2. Get each file's  download URL from the API.\n",
    "3. Use a download program such as `wget` or `aria2c` to download the files."
   ]
  },
  {
   "cell_type": "code",
   "execution_count": null,
   "metadata": {
    "collapsed": true
   },
   "outputs": [],
   "source": [
    "# The following script uses the Python requests library to make a small wrapper around the CGC API\n",
    "import uuid\n",
    "import json\n",
    "import pprint\n",
    "import requests\n",
    "\n",
    "def api(api_url, path, auth_token,method='GET', query=None, data=None): \n",
    "  data = json.dumps(data) if isinstance(data, dict) or isinstance(data,list) else None \n",
    "  base_url = api_url\n",
    " \n",
    "  headers = { \n",
    "    'X-SBG-Auth-Token': auth_token, \n",
    "    'Accept': 'application/json', \n",
    "    'Content-type': 'application/json', \n",
    "  } \n",
    " \n",
    "  response = requests.request(method, base_url + path, params=query, data=data, headers=headers) \n",
    "  print \"URL: \",  response.url\n",
    "  print \"RESPONSE CODE: \", response.status_code\n",
    "  print ('--------------------------------------------------------------------------------------------------------------------')\n",
    "  response_dict = json.loads(response.content) if response.content else {} \n",
    "  response_headers = dict(response.headers)\n",
    "\n",
    "  pprint.pprint(response_headers)\n",
    "  print('--------------------------------------------------------------------------------------------------------------------')\n",
    "  pprint.pprint(response_dict)\n",
    "  return response_dict"
   ]
  },
  {
   "cell_type": "markdown",
   "metadata": {},
   "source": [
    "### Prepare the API endpoint and authentication token\n",
    "\n",
    "The base URL for the CGC API is https://cgc-api.sbgenomics.com/v2/\n",
    "\n",
    "Your CGC API authentication token can be retrieved from https://cgc.sbgenomics.com/account#developer. Enter your token in the code below, to replace <YOUR TOKEN HERE>."
   ]
  },
  {
   "cell_type": "code",
   "execution_count": null,
   "metadata": {
    "collapsed": true
   },
   "outputs": [],
   "source": [
    "# API base URL\n",
    "base = 'https://cgc-api.sbgenomics.com/v2/' \n",
    "\n",
    "auth_token = '<YOUR TOKEN HERE>'\n",
    "\n"
   ]
  },
  {
   "cell_type": "code",
   "execution_count": null,
   "metadata": {
    "collapsed": false
   },
   "outputs": [],
   "source": [
    "# Get download data for each of the files \n",
    "\n",
    "# Note that here we use a special purpose API call on CGC as described on \n",
    "# http://docs.cancergenomicscloud.org/v1.0/docs/get-a-files-download-url\n",
    "\n",
    "download_urls = api(api_url=base,auth_token=auth_token,path='action/files/get_download_url',method='POST',query=None,data=filelist)\n",
    "\n"
   ]
  },
  {
   "cell_type": "markdown",
   "metadata": {},
   "source": [
    "### Download files\n",
    "\n",
    "We'll write the download URLs to a file, `download.txt`, which can be then used to download them via a download tool such as [wget](https://www.gnu.org/software/wget/) or [aria2](http://aria2.sourceforge.net/).\n",
    "\n"
   ]
  },
  {
   "cell_type": "code",
   "execution_count": null,
   "metadata": {
    "collapsed": true
   },
   "outputs": [],
   "source": [
    "outfile = open('download.txt','wb')\n",
    "for url in download_urls:\n",
    "    outfile.write(url)\n",
    "    outfile.write('\\n')\n",
    "\n",
    "outfile.close()\n"
   ]
  },
  {
   "cell_type": "markdown",
   "metadata": {},
   "source": [
    "Now we can use the list of download links to obtain the files:\n",
    "\n",
    "1. Using `wget`: `wget --content-disposition -i download.txt`\n",
    "2. Using `aria2`: `aria2c -i download.txt --file-allocation=none`"
   ]
  }
 ],
 "metadata": {
  "kernelspec": {
   "display_name": "Python 2",
   "language": "python",
   "name": "python2"
  },
  "language_info": {
   "codemirror_mode": {
    "name": "ipython",
    "version": 2
   },
   "file_extension": ".py",
   "mimetype": "text/x-python",
   "name": "python",
   "nbconvert_exporter": "python",
   "pygments_lexer": "ipython2",
   "version": "2.7.11"
  }
 },
 "nbformat": 4,
 "nbformat_minor": 0
}
